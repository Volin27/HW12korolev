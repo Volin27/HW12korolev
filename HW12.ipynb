{
 "cells": [
  {
   "cell_type": "code",
   "execution_count": null,
   "id": "bdbae62b",
   "metadata": {},
   "outputs": [],
   "source": [
    "import os\n",
    "import shutil\n",
    "from git import Repo\n",
    "\n",
    "def create_file(file_path):\n",
    "    with open(file_path, 'w') as file:\n",
    "        pass\n",
    "\n",
    "def delete_file(file_path):\n",
    "    os.remove(file_path)\n",
    "\n",
    "def move_file(source_path, destination_path):\n",
    "    shutil.move(source_path, destination_path)\n",
    "\n",
    "def copy_file(source_path, destination_path):\n",
    "    shutil.copyfile(source_path, destination_path)\n",
    "\n",
    "def git_commit(repo, message):\n",
    "    repo.git.add(A=True)\n",
    "    repo.index.commit(message)\n",
    "\n",
    "def main():\n",
    "    repo = Repo.init(os.getcwd())\n",
    "    \n",
    "    while True:\n",
    "        command = input(\"Введите команду (create/delete/move/copy/commit/exit): \")\n",
    "        \n",
    "        if command == \"create\":\n",
    "            file_path = input(\"Введите путь к файлу для создания: \")\n",
    "            create_file(file_path)\n",
    "        elif command == \"delete\":\n",
    "            file_path = input(\"Введите путь к файлу для удаления: \")\n",
    "            delete_file(file_path)\n",
    "        elif command == \"move\":\n",
    "            source_path = input(\"Введите путь к файлу для перемещения: \")\n",
    "            destination_path = input(\"Введите путь назначения: \")\n",
    "            move_file(source_path, destination_path)\n",
    "        elif command == \"copy\":\n",
    "            source_path = input(\"Введите путь к файлу для копирования: \")\n",
    "            destination_path = input(\"Введите путь назначения: \")\n",
    "            copy_file(source_path, destination_path)\n",
    "        elif command == \"commit\":\n",
    "            message = input(\"Введите сообщение коммита: \")\n",
    "            git_commit(repo, message)\n",
    "        elif command == \"exit\":\n",
    "            break\n",
    "        else:\n",
    "            print(\"Неизвестная команда\")\n",
    "\n",
    "if __name__ == \"__main__\":\n",
    "    main()"
   ]
  },
  {
   "cell_type": "code",
   "execution_count": null,
   "id": "44dfea4b",
   "metadata": {},
   "outputs": [],
   "source": []
  }
 ],
 "metadata": {
  "kernelspec": {
   "display_name": "Python 3 (ipykernel)",
   "language": "python",
   "name": "python3"
  },
  "language_info": {
   "codemirror_mode": {
    "name": "ipython",
    "version": 3
   },
   "file_extension": ".py",
   "mimetype": "text/x-python",
   "name": "python",
   "nbconvert_exporter": "python",
   "pygments_lexer": "ipython3",
   "version": "3.11.5"
  }
 },
 "nbformat": 4,
 "nbformat_minor": 5
}
